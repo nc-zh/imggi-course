{
 "cells": [
  {
   "cell_type": "code",
   "execution_count": 1,
   "metadata": {},
   "outputs": [],
   "source": [
    "import pandas as pd\n",
    "import numpy as np\n",
    "\n",
    "import matplotlib.pyplot as plt \n",
    "import seaborn as sns\n",
    "\n",
    "from sklearn.linear_model import LogisticRegression\n",
    "\n",
    "sns.set_style()\n",
    "sns.set_theme()"
   ]
  },
  {
   "cell_type": "code",
   "execution_count": null,
   "metadata": {},
   "outputs": [],
   "source": [
    "data = pd.read_csv('data/Experience_vs_Promotion_Data.csv')\n",
    "data.head(20)"
   ]
  },
  {
   "cell_type": "code",
   "execution_count": null,
   "metadata": {},
   "outputs": [],
   "source": [
    "sns.scatterplot(data, x='Years of Experience', y='Promotion')\n",
    "plt.title('Promotion vs years of experience')"
   ]
  },
  {
   "cell_type": "code",
   "execution_count": 6,
   "metadata": {},
   "outputs": [],
   "source": [
    "target = data['Promotion']\n",
    "features = data[['Years of Experience']]"
   ]
  },
  {
   "cell_type": "code",
   "execution_count": 9,
   "metadata": {},
   "outputs": [],
   "source": [
    "# Fit logistic regression model\n",
    "model = LogisticRegression()\n",
    "model.fit(features, target)\n",
    "\n",
    "# Extract learned coefficients\n",
    "true_coef = model.coef_[0][0]\n",
    "true_intercept = model.intercept_[0]"
   ]
  },
  {
   "cell_type": "code",
   "execution_count": null,
   "metadata": {},
   "outputs": [],
   "source": [
    "# Sigmoid function\n",
    "def sigmoid(x):\n",
    "    return 1 / (1 + np.exp(-(true_coef * x + true_intercept)))\n",
    "\n",
    "# Generate x values for a smooth sigmoid curve\n",
    "x_values = np.linspace(features.min(), features.max(), 100)\n",
    "sigmoid_curve = sigmoid(x_values)\n",
    "\n",
    "# Plot actual data points\n",
    "plt.scatter(features, target, label=\"Data Points\", color=\"blue\", alpha=0.7)\n",
    "\n",
    "# Plot the sigmoid curve\n",
    "plt.plot(x_values, sigmoid_curve, label=\"Fitted Sigmoid Curve\", color=\"red\")\n",
    "\n",
    "# Labels and title\n",
    "plt.xlabel(\"Years of experience\")  # Replace with actual feature name\n",
    "plt.ylabel(\"Promotion\")\n",
    "plt.title(\"Sigmoid Curve for Logistic Regression\")\n",
    "\n",
    "plt.axhline(y=0.5, color=\"black\", linestyle=\"dashed\", alpha=0.5)  # Horizontal line at 0.5\n",
    "plt.axvline(x=-true_intercept/true_coef, color=\"black\", linestyle=\"dashed\", alpha=0.5)  # Vertical line at 0\n",
    "\n",
    "plt.legend()\n",
    "\n",
    "# Show plot\n",
    "plt.show()\n"
   ]
  },
  {
   "cell_type": "code",
   "execution_count": null,
   "metadata": {},
   "outputs": [],
   "source": [
    "probas = model.predict_proba(features)\n",
    "probas"
   ]
  },
  {
   "cell_type": "code",
   "execution_count": null,
   "metadata": {},
   "outputs": [],
   "source": [
    "pred_class = model.predict(features)\n",
    "pred_class"
   ]
  },
  {
   "cell_type": "code",
   "execution_count": 17,
   "metadata": {},
   "outputs": [],
   "source": [
    "from sklearn.metrics import accuracy_score, precision_score, recall_score, f1_score, confusion_matrix"
   ]
  },
  {
   "cell_type": "code",
   "execution_count": null,
   "metadata": {},
   "outputs": [],
   "source": [
    "accuracy_score(target, pred_class)"
   ]
  },
  {
   "cell_type": "code",
   "execution_count": null,
   "metadata": {},
   "outputs": [],
   "source": [
    "precision_score(target, pred_class)"
   ]
  },
  {
   "cell_type": "code",
   "execution_count": null,
   "metadata": {},
   "outputs": [],
   "source": [
    "recall_score(target, pred_class)"
   ]
  },
  {
   "cell_type": "code",
   "execution_count": null,
   "metadata": {},
   "outputs": [],
   "source": [
    "f1_score(target, pred_class)"
   ]
  },
  {
   "cell_type": "code",
   "execution_count": null,
   "metadata": {},
   "outputs": [],
   "source": [
    "confusion_matrix(target, pred_class)"
   ]
  },
  {
   "cell_type": "code",
   "execution_count": null,
   "metadata": {},
   "outputs": [],
   "source": [
    "conf_mtx = confusion_matrix(target, pred_class)\n",
    "\n",
    "class_names = [\"No-Promotion\", \"Promotion\"]\n",
    "\n",
    "# Plot the confusion matrix\n",
    "plt.figure(figsize=(5,4))\n",
    "sns.heatmap(conf_mtx, annot=True, fmt=\"d\", cmap=\"Blues\", xticklabels=class_names, yticklabels=class_names)\n",
    "plt.xlabel(\"Predicted Label\")\n",
    "plt.ylabel(\"True Label\")\n",
    "plt.title(\"Confusion Matrix\")\n",
    "plt.show()"
   ]
  }
 ],
 "metadata": {
  "kernelspec": {
   "display_name": "imgii_env",
   "language": "python",
   "name": "python3"
  },
  "language_info": {
   "codemirror_mode": {
    "name": "ipython",
    "version": 3
   },
   "file_extension": ".py",
   "mimetype": "text/x-python",
   "name": "python",
   "nbconvert_exporter": "python",
   "pygments_lexer": "ipython3",
   "version": "3.12.8"
  }
 },
 "nbformat": 4,
 "nbformat_minor": 2
}
