{
 "cells": [
  {
   "cell_type": "code",
   "execution_count": 1,
   "metadata": {},
   "outputs": [],
   "source": [
    "import numpy as np\n",
    "import matplotlib.pyplot as plt\n",
    "import seaborn as sns\n",
    "\n",
    "from sklearn.preprocessing import PolynomialFeatures, StandardScaler\n",
    "from sklearn.linear_model import LinearRegression, Ridge\n",
    "from sklearn.metrics import mean_squared_error, r2_score\n",
    "from sklearn.model_selection import train_test_split\n",
    "\n",
    "sns.set_style()\n",
    "sns.set_theme()\n",
    "\n",
    "# Generate quadratic dataset\n",
    "np.random.seed(40)\n",
    "\n",
    "x = np.linspace(-5, 5, 80).reshape(-1, 1)\n",
    "y = np.sin(x) + np.random.normal(scale=0.2, size=x.shape)\n",
    "\n",
    "# Split into training and test sets\n",
    "X_train, X_test, y_train, y_test = train_test_split(x, y, test_size=0.5, random_state=42)"
   ]
  },
  {
   "cell_type": "code",
   "execution_count": null,
   "metadata": {},
   "outputs": [],
   "source": [
    "sns.scatterplot(x=X_train[:,0].ravel(), y=y_train.ravel(), color='blue')\n",
    "plt.title('Train dataset')\n",
    "plt.xlabel('X')\n",
    "plt.ylabel('y')"
   ]
  },
  {
   "cell_type": "code",
   "execution_count": null,
   "metadata": {},
   "outputs": [],
   "source": [
    "sns.scatterplot(x=X_test[:,0].ravel(), y=y_test.ravel(), color='blue')\n",
    "plt.title('Test dataset')\n",
    "plt.xlabel('X')\n",
    "plt.ylabel('y')"
   ]
  },
  {
   "cell_type": "code",
   "execution_count": 5,
   "metadata": {},
   "outputs": [],
   "source": [
    "def plot_results(X_train, y_train, X_test, y_test, model, title):\n",
    "    # Predict\n",
    "    y_train_pred = model.predict(X_train)\n",
    "    y_test_pred = model.predict(X_test)\n",
    "    \n",
    "    # Calculate metrics\n",
    "    train_rmse = np.sqrt(mean_squared_error(y_train, y_train_pred))\n",
    "    test_rmse = np.sqrt(mean_squared_error(y_test, y_test_pred))\n",
    "    train_r2 = r2_score(y_train, y_train_pred)\n",
    "    test_r2 = r2_score(y_test, y_test_pred)\n",
    "    \n",
    "    # Print out metrics\n",
    "    print(f\"{title}\")\n",
    "    print(f\"Train RMSE: {train_rmse:.4f}, Test RMSE: {test_rmse:.4f}\")\n",
    "    print(f\"Train R²: {train_r2:.4f}, Test R²: {test_r2:.4f}\\n\")\n",
    "    \n",
    "    # Plot Training Set\n",
    "    plt.figure(figsize=(6, 5))\n",
    "    sns.scatterplot(x=X_train[:, 0].ravel(), y=y_train.ravel(), color='blue', label='Train Data')\n",
    "    sns.lineplot(x=X_train[:, 0].ravel(), y=y_train_pred.ravel(), color='red', label='Model Fit')\n",
    "    plt.title(f\"{title} - Training Set\")\n",
    "    plt.legend()\n",
    "    plt.show()\n",
    "    \n",
    "    # Plot Test Set\n",
    "    plt.figure(figsize=(6, 5))\n",
    "    sns.scatterplot(x=X_test[:, 0].ravel(), y=y_test.ravel(), color='orange', label='Test Data')\n",
    "    sns.lineplot(x=X_test[:, 0].ravel(), y=y_test_pred.ravel(), color='red', label='Model Fit')\n",
    "    plt.title(f\"{title} - Test Set\")\n",
    "    plt.legend()\n",
    "    plt.show()"
   ]
  },
  {
   "cell_type": "code",
   "execution_count": null,
   "metadata": {},
   "outputs": [],
   "source": [
    "# Determine polynomial degree\n",
    "poly_degree = 2\n",
    "\n",
    "# Create polynomial features\n",
    "poly_tranformer = PolynomialFeatures(degree=poly_degree, include_bias=False)\n",
    "X_train_poly = poly_tranformer.fit_transform(X_train)\n",
    "X_test_poly = poly_tranformer.fit_transform(X_test)\n",
    "\n",
    "# Scale the data\n",
    "scaler = StandardScaler().fit(X_train_poly)\n",
    "X_train_poly = scaler.transform(X_train_poly)\n",
    "X_test_poly = scaler.transform(X_test_poly)\n",
    "\n",
    "# Fit the model and plot model predictions and data\n",
    "poly_reg = LinearRegression()\n",
    "poly_reg.fit(X_train_poly, y_train)\n",
    "plot_results(X_train_poly, y_train, X_test_poly, y_test, poly_reg, f\"Polynomial Regression (Degree {poly_degree})\")"
   ]
  },
  {
   "cell_type": "code",
   "execution_count": null,
   "metadata": {},
   "outputs": [],
   "source": [
    "# Determine polynomial degree\n",
    "poly_degree = 5\n",
    "\n",
    "# Create polynomial features\n",
    "poly_tranformer = PolynomialFeatures(degree=poly_degree, include_bias=False)\n",
    "X_train_poly = poly_tranformer.fit_transform(X_train)\n",
    "X_test_poly = poly_tranformer.fit_transform(X_test)\n",
    "\n",
    "# Scale the data\n",
    "scaler = StandardScaler().fit(X_train_poly)\n",
    "X_train_poly = scaler.transform(X_train_poly)\n",
    "X_test_poly = scaler.transform(X_test_poly)\n",
    "\n",
    "# Fit the model and plot model predictions and data\n",
    "poly_reg = LinearRegression()\n",
    "poly_reg.fit(X_train_poly, y_train)\n",
    "plot_results(X_train_poly, y_train, X_test_poly, y_test, poly_reg, f\"Polynomial Regression (Degree {poly_degree})\")"
   ]
  },
  {
   "cell_type": "code",
   "execution_count": null,
   "metadata": {},
   "outputs": [],
   "source": [
    "# Determine polynomial degree\n",
    "poly_degree = 50\n",
    "\n",
    "# Create polynomial features\n",
    "poly_tranformer = PolynomialFeatures(degree=poly_degree, include_bias=False)\n",
    "X_train_poly = poly_tranformer.fit_transform(X_train)\n",
    "X_test_poly = poly_tranformer.fit_transform(X_test)\n",
    "\n",
    "# Scale the data\n",
    "scaler = StandardScaler().fit(X_train_poly)\n",
    "X_train_poly = scaler.transform(X_train_poly)\n",
    "X_test_poly = scaler.transform(X_test_poly)\n",
    "\n",
    "# Fit the model and plot model predictions and data\n",
    "poly_reg = LinearRegression()\n",
    "poly_reg.fit(X_train_poly, y_train)\n",
    "plot_results(X_train_poly, y_train, X_test_poly, y_test, poly_reg, f\"Polynomial Regression (Degree {poly_degree})\")"
   ]
  },
  {
   "cell_type": "code",
   "execution_count": 65,
   "metadata": {},
   "outputs": [],
   "source": [
    "from sklearn.linear_model import Lasso"
   ]
  },
  {
   "cell_type": "code",
   "execution_count": null,
   "metadata": {},
   "outputs": [],
   "source": [
    "# Determine polynomial degree\n",
    "poly_degree = 50\n",
    "\n",
    "# Create polynomial features\n",
    "poly_tranformer = PolynomialFeatures(degree=poly_degree, include_bias=False)\n",
    "X_train_poly = poly_tranformer.fit_transform(X_train)\n",
    "X_test_poly = poly_tranformer.fit_transform(X_test)\n",
    "\n",
    "# Scale the data\n",
    "scaler = StandardScaler().fit(X_train_poly)\n",
    "X_train_poly = scaler.transform(X_train_poly)\n",
    "X_test_poly = scaler.transform(X_test_poly)\n",
    "\n",
    "# Fit the model and plot model predictions and data\n",
    "poly_reg = Lasso(alpha=0.001)\n",
    "poly_reg.fit(X_train_poly, y_train)\n",
    "plot_results(X_train_poly, y_train, X_test_poly, y_test, poly_reg, f\"Polynomial Regression (Degree {poly_degree})\")"
   ]
  },
  {
   "cell_type": "code",
   "execution_count": null,
   "metadata": {},
   "outputs": [],
   "source": [
    "plt.hist(poly_reg.coef_, bins=20)"
   ]
  },
  {
   "cell_type": "code",
   "execution_count": 58,
   "metadata": {},
   "outputs": [],
   "source": [
    "from sklearn.linear_model import Ridge"
   ]
  },
  {
   "cell_type": "code",
   "execution_count": null,
   "metadata": {},
   "outputs": [],
   "source": [
    "# Determine polynomial degree\n",
    "poly_degree = 50\n",
    "\n",
    "# Create polynomial features\n",
    "poly_tranformer = PolynomialFeatures(degree=poly_degree, include_bias=False)\n",
    "X_train_poly = poly_tranformer.fit_transform(X_train)\n",
    "X_test_poly = poly_tranformer.fit_transform(X_test)\n",
    "\n",
    "# Scale the data\n",
    "scaler = StandardScaler().fit(X_train_poly)\n",
    "X_train_poly = scaler.transform(X_train_poly)\n",
    "X_test_poly = scaler.transform(X_test_poly)\n",
    "\n",
    "# Fit the model and plot model predictions and data\n",
    "poly_reg = Ridge(alpha=0.1)\n",
    "poly_reg.fit(X_train_poly, y_train)\n",
    "plot_results(X_train_poly, y_train, X_test_poly, y_test, poly_reg, f\"Polynomial Regression (Degree {poly_degree})\")"
   ]
  },
  {
   "cell_type": "code",
   "execution_count": null,
   "metadata": {},
   "outputs": [],
   "source": [
    "plt.hist(poly_reg.coef_, bins=20)"
   ]
  }
 ],
 "metadata": {
  "kernelspec": {
   "display_name": "imgii_env",
   "language": "python",
   "name": "python3"
  },
  "language_info": {
   "codemirror_mode": {
    "name": "ipython",
    "version": 3
   },
   "file_extension": ".py",
   "mimetype": "text/x-python",
   "name": "python",
   "nbconvert_exporter": "python",
   "pygments_lexer": "ipython3",
   "version": "3.12.8"
  }
 },
 "nbformat": 4,
 "nbformat_minor": 2
}
