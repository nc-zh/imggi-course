{
 "cells": [
  {
   "cell_type": "code",
   "execution_count": 5,
   "metadata": {},
   "outputs": [],
   "source": [
    "'''\n",
    "Create model that predicts if individual has diabetes (Outcome) based on provided features.\n",
    "Use feature engineering, regularization and hyperparameter search to create best possible model.\n",
    "At the very beggining, split the data into training and test dataset (70/30).\n",
    "\n",
    "Pregnancies – Number of times pregnant.\n",
    "Glucose – Plasma glucose concentration (mg/dL) from a 2-hour oral glucose tolerance test.\n",
    "BloodPressure – Diastolic blood pressure (mm Hg).\n",
    "SkinThickness – Triceps skinfold thickness (mm).\n",
    "Insulin – 2-hour serum insulin level (μU/mL).\n",
    "BMI – Body mass index (weight in kg / (height in m)²).\n",
    "DiabetesPedigreeFunction – Diabetes likelihood based on family history.\n",
    "Age – Age in years.\n",
    "\n",
    "Outcome – Binary variable (1 = Diabetes, 0 = No Diabetes).\n",
    "\n",
    "Dataset path: data/indian_diabetes.csv\n",
    "'''"
   ]
  }
 ],
 "metadata": {
  "kernelspec": {
   "display_name": "imgii_env",
   "language": "python",
   "name": "python3"
  },
  "language_info": {
   "codemirror_mode": {
    "name": "ipython",
    "version": 3
   },
   "file_extension": ".py",
   "mimetype": "text/x-python",
   "name": "python",
   "nbconvert_exporter": "python",
   "pygments_lexer": "ipython3",
   "version": "3.12.8"
  }
 },
 "nbformat": 4,
 "nbformat_minor": 2
}
