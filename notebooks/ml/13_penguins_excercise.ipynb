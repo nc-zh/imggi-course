{
 "cells": [
  {
   "cell_type": "code",
   "execution_count": 27,
   "metadata": {},
   "outputs": [],
   "source": [
    "'''\n",
    "Data path: data/penguins_size.csv\n",
    "\n",
    "Create model that predicts penguin species based on penguin characteristics:\n",
    "-'island', \n",
    "-'culmen_length_mm'\n",
    "-'culmen_depth_mm'\n",
    "-'flipper_length_mm'\n",
    "-'body_mass_g', \n",
    "-'sex'\n",
    "'''\n"
   ]
  }
 ],
 "metadata": {
  "kernelspec": {
   "display_name": "imgii_env",
   "language": "python",
   "name": "python3"
  },
  "language_info": {
   "codemirror_mode": {
    "name": "ipython",
    "version": 3
   },
   "file_extension": ".py",
   "mimetype": "text/x-python",
   "name": "python",
   "nbconvert_exporter": "python",
   "pygments_lexer": "ipython3",
   "version": "3.12.8"
  }
 },
 "nbformat": 4,
 "nbformat_minor": 2
}
