{
 "cells": [
  {
   "cell_type": "code",
   "execution_count": 10,
   "metadata": {},
   "outputs": [],
   "source": [
    "import pandas as pd\n",
    "import matplotlib.pyplot as plt\n",
    "import seaborn as sns\n",
    "from sklearn.linear_model import LinearRegression\n",
    "from sklearn.metrics import r2_score, root_mean_squared_error, mean_absolute_error\n",
    "\n",
    "sns.set_style()\n",
    "sns.set_theme()"
   ]
  },
  {
   "cell_type": "code",
   "execution_count": null,
   "metadata": {},
   "outputs": [],
   "source": [
    "'''\n",
    "features:\n",
    "\n",
    "\"length\" - longest shell measurement.\n",
    "\"diameter\" - perpendicular to the length.\n",
    "\"height\" - measured with meat in the shell.\n",
    "\"whole_wt\" - whole abalone weight.\n",
    "\"shucked_wt\" - the weight of abalone meat.\n",
    "\"viscera_wt\" - gut-weight.\n",
    "\"shell_wt\" - the weight of the dried shell.\n",
    "\n",
    "target:\n",
    "\"age\" - the age of the abalone.\n",
    "'''\n",
    "\n",
    "data = pd.read_csv('data/abalone2.csv')\n",
    "data"
   ]
  },
  {
   "cell_type": "code",
   "execution_count": null,
   "metadata": {},
   "outputs": [],
   "source": [
    "_ = data.hist(figsize=(10,10))"
   ]
  },
  {
   "cell_type": "code",
   "execution_count": null,
   "metadata": {},
   "outputs": [],
   "source": [
    "import matplotlib.pyplot as plt\n",
    "import pandas as pd\n",
    "\n",
    "# Specify target column\n",
    "target_column = \"age\"  # Replace with actual target column name\n",
    "\n",
    "# Filter out the target column from features\n",
    "feature_columns = [col for col in data.columns if col != target_column]\n",
    "\n",
    "# Set grid layout\n",
    "cols_per_row = 3  # Adjust for your preference\n",
    "num_plots = len(feature_columns)\n",
    "rows = (num_plots // cols_per_row) + (num_plots % cols_per_row > 0)\n",
    "\n",
    "# Create subplots\n",
    "fig, axes = plt.subplots(rows, cols_per_row, figsize=(16, 8))\n",
    "axes = axes.flatten()  # Flatten in case of multiple rows\n",
    "\n",
    "# Plot each feature against the target column\n",
    "for i, col in enumerate(feature_columns):\n",
    "    axes[i].scatter(data[col], data[target_column], alpha=0.7, color=\"blue\")\n",
    "    axes[i].set_xlabel(col)\n",
    "    axes[i].set_ylabel(target_column)\n",
    "    axes[i].set_title(f\"{col} vs {target_column}\")\n",
    "\n",
    "# Remove empty subplots if any\n",
    "for j in range(i + 1, len(axes)):\n",
    "    fig.delaxes(axes[j])\n",
    "\n",
    "plt.tight_layout()\n",
    "plt.show()"
   ]
  },
  {
   "cell_type": "code",
   "execution_count": null,
   "metadata": {},
   "outputs": [],
   "source": [
    "data.columns"
   ]
  },
  {
   "cell_type": "code",
   "execution_count": 16,
   "metadata": {},
   "outputs": [],
   "source": [
    "feature_names = ['length', 'diameter', 'height', 'whole_wt', 'shucked_wt', 'viscera_wt', 'shell_wt']\n",
    "features = data[feature_names]\n",
    "target = data['age']"
   ]
  },
  {
   "cell_type": "code",
   "execution_count": 17,
   "metadata": {},
   "outputs": [],
   "source": [
    "lr = LinearRegression()"
   ]
  },
  {
   "cell_type": "code",
   "execution_count": null,
   "metadata": {},
   "outputs": [],
   "source": [
    "lr.fit(features, target)"
   ]
  },
  {
   "cell_type": "code",
   "execution_count": null,
   "metadata": {},
   "outputs": [],
   "source": [
    "lr.coef_"
   ]
  },
  {
   "cell_type": "code",
   "execution_count": null,
   "metadata": {},
   "outputs": [],
   "source": [
    "lr.feature_names_in_"
   ]
  },
  {
   "cell_type": "code",
   "execution_count": 21,
   "metadata": {},
   "outputs": [],
   "source": [
    "predicted_values = lr.predict(features)"
   ]
  },
  {
   "cell_type": "code",
   "execution_count": null,
   "metadata": {},
   "outputs": [],
   "source": [
    "root_mean_squared_error(target, predicted_values)"
   ]
  },
  {
   "cell_type": "code",
   "execution_count": null,
   "metadata": {},
   "outputs": [],
   "source": [
    "r2_score(target, predicted_values)"
   ]
  }
 ],
 "metadata": {
  "kernelspec": {
   "display_name": "imgii_env",
   "language": "python",
   "name": "python3"
  },
  "language_info": {
   "codemirror_mode": {
    "name": "ipython",
    "version": 3
   },
   "file_extension": ".py",
   "mimetype": "text/x-python",
   "name": "python",
   "nbconvert_exporter": "python",
   "pygments_lexer": "ipython3",
   "version": "3.12.8"
  }
 },
 "nbformat": 4,
 "nbformat_minor": 2
}
