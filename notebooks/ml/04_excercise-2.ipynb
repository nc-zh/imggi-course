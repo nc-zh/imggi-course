{
 "cells": [
  {
   "cell_type": "code",
   "execution_count": 10,
   "metadata": {},
   "outputs": [],
   "source": [
    "import pandas as pd\n",
    "import matplotlib.pyplot as plt\n",
    "import seaborn as sns\n",
    "from sklearn.linear_model import LinearRegression\n",
    "from sklearn.metrics import r2_score, root_mean_squared_error, mean_absolute_error\n",
    "\n",
    "sns.set_style()\n",
    "sns.set_theme()"
   ]
  },
  {
   "cell_type": "code",
   "execution_count": null,
   "metadata": {},
   "outputs": [],
   "source": [
    "'''\n",
    "data path: data/abalone2.csv\n",
    "\n",
    "\n",
    "features:\n",
    "\n",
    "\"length\" - longest shell measurement.\n",
    "\"diameter\" - perpendicular to the length.\n",
    "\"height\" - measured with meat in the shell.\n",
    "\"whole_wt\" - whole abalone weight.\n",
    "\"shucked_wt\" - the weight of abalone meat.\n",
    "\"viscera_wt\" - gut-weight.\n",
    "\"shell_wt\" - the weight of the dried shell.\n",
    "\n",
    "target:\n",
    "\"age\" - the age of the abalone.\n",
    "\n",
    "\n",
    "Task: train linear regression model to predict abalone age based on provided features.\n",
    "\n",
    "\n",
    "'''"
   ]
  }
 ],
 "metadata": {
  "kernelspec": {
   "display_name": "imgii_env",
   "language": "python",
   "name": "python3"
  },
  "language_info": {
   "codemirror_mode": {
    "name": "ipython",
    "version": 3
   },
   "file_extension": ".py",
   "mimetype": "text/x-python",
   "name": "python",
   "nbconvert_exporter": "python",
   "pygments_lexer": "ipython3",
   "version": "3.12.8"
  }
 },
 "nbformat": 4,
 "nbformat_minor": 2
}
