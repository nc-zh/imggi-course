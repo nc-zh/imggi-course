{
 "cells": [
  {
   "cell_type": "code",
   "execution_count": 1,
   "metadata": {},
   "outputs": [],
   "source": [
    "from sklearn.datasets import load_breast_cancer\n",
    "import pandas as pd"
   ]
  },
  {
   "cell_type": "code",
   "execution_count": 7,
   "metadata": {},
   "outputs": [],
   "source": [
    "'''\n",
    "\n",
    "The dataset is focused on predicting whether a breast tumor is malignant or benign based on numerical \n",
    "features extracted from cell nuclei in biopsy images.\n",
    "\n",
    "Task:\n",
    "Predict if the cancer is malignant(1) or benign(0). Evaluate the model by using classification metrics.\n",
    "\n",
    "Dataset info: https://archive.ics.uci.edu/dataset/17/breast+cancer+wisconsin+diagnostic\n",
    "'''\n",
    "\n",
    "# Load dataset\n",
    "# data = load_breast_cancer()\n",
    "# features = pd.DataFrame(data.data, columns=data.feature_names)\n",
    "# target = data.target"
   ]
  },
  {
   "cell_type": "code",
   "execution_count": null,
   "metadata": {},
   "outputs": [],
   "source": []
  }
 ],
 "metadata": {
  "kernelspec": {
   "display_name": "imgii_env",
   "language": "python",
   "name": "python3"
  },
  "language_info": {
   "codemirror_mode": {
    "name": "ipython",
    "version": 3
   },
   "file_extension": ".py",
   "mimetype": "text/x-python",
   "name": "python",
   "nbconvert_exporter": "python",
   "pygments_lexer": "ipython3",
   "version": "3.12.8"
  }
 },
 "nbformat": 4,
 "nbformat_minor": 2
}
