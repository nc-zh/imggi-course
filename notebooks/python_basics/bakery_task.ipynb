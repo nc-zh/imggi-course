{
 "cells": [
  {
   "cell_type": "markdown",
   "metadata": {},
   "source": [
    "# Pekara"
   ]
  },
  {
   "cell_type": "markdown",
   "metadata": {},
   "source": [
    "Formirati simulaciju jednog radnog dana pekare koja prodaje dva proizvoda:\n",
    "- hleb\n",
    "- kifla\n",
    "\n",
    "Na pocetku dana pekar napravi N hlebova i M kifli. Tokom dana dolaze kupci i tokom jedne kupove moguce je da kupe samo jedan artikal, npr. jedan hleb. Kraj radnog dana je kada se isprazni pekara.\n",
    "\n",
    "Za nasumicni izbor artikla koristiti `random.choice([\"hleb\", \"kifla\"])`, kao i za nasumicni izbor kupca iz predefinisane liste kupaca pri kupovini. Da bi se navedena funkcija mogla koristiti, na pocetku koda uraditi `import random`.\n",
    "\n",
    "\n"
   ]
  },
  {
   "cell_type": "code",
   "execution_count": null,
   "metadata": {},
   "outputs": [],
   "source": []
  },
  {
   "cell_type": "code",
   "execution_count": null,
   "metadata": {},
   "outputs": [],
   "source": []
  }
 ],
 "metadata": {
  "kernelspec": {
   "display_name": "Python 3",
   "language": "python",
   "name": "python3"
  },
  "language_info": {
   "name": "python",
   "version": "3.12.8"
  }
 },
 "nbformat": 4,
 "nbformat_minor": 2
}
