{
 "cells": [
  {
   "cell_type": "markdown",
   "metadata": {},
   "source": [
    "# Pekara\n"
   ]
  },
  {
   "cell_type": "markdown",
   "metadata": {},
   "source": [
    "Simulirati rad pekare;"
   ]
  },
  {
   "cell_type": "code",
   "execution_count": 23,
   "metadata": {},
   "outputs": [
    {
     "name": "stdout",
     "output_type": "stream",
     "text": [
      "=== Morning Baking ===\n",
      "John baked 10 bread!\n",
      "John baked 5 pretzels!\n",
      "\n",
      "=== Shopping Time ===\n",
      "Bob bought a pretzel!\n",
      "Items left in bakery: Bread - 10, pretzels - 4 \n",
      "\n",
      "Alice bought a pretzel!\n",
      "Items left in bakery: Bread - 10, pretzels - 3 \n",
      "\n",
      "Bob bought a pretzel!\n",
      "Items left in bakery: Bread - 10, pretzels - 2 \n",
      "\n",
      "Alice bought a pretzel!\n",
      "Items left in bakery: Bread - 10, pretzels - 1 \n",
      "\n",
      "Ed bought a bread!\n",
      "Items left in bakery: Bread - 9, pretzels - 1 \n",
      "\n",
      "Ed bought a bread!\n",
      "Items left in bakery: Bread - 8, pretzels - 1 \n",
      "\n",
      "Frank bought a pretzel!\n",
      "Items left in bakery: Bread - 8, pretzels - 0 \n",
      "\n",
      "Sorry Alice, we're out of pretzel!\n",
      "Items left in bakery: Bread - 8, pretzels - 0 \n",
      "\n",
      "Bob bought a bread!\n",
      "Items left in bakery: Bread - 7, pretzels - 0 \n",
      "\n",
      "Sorry Alice, we're out of pretzel!\n",
      "Items left in bakery: Bread - 7, pretzels - 0 \n",
      "\n",
      "Ed bought a bread!\n",
      "Items left in bakery: Bread - 6, pretzels - 0 \n",
      "\n",
      "Sorry Diana, we're out of pretzel!\n",
      "Items left in bakery: Bread - 6, pretzels - 0 \n",
      "\n",
      "Sorry Diana, we're out of pretzel!\n",
      "Items left in bakery: Bread - 6, pretzels - 0 \n",
      "\n",
      "Alice bought a bread!\n",
      "Items left in bakery: Bread - 5, pretzels - 0 \n",
      "\n",
      "Sorry Ed, we're out of pretzel!\n",
      "Items left in bakery: Bread - 5, pretzels - 0 \n",
      "\n",
      "Sorry Diana, we're out of pretzel!\n",
      "Items left in bakery: Bread - 5, pretzels - 0 \n",
      "\n",
      "Bob bought a bread!\n",
      "Items left in bakery: Bread - 4, pretzels - 0 \n",
      "\n",
      "Sorry Diana, we're out of pretzel!\n",
      "Items left in bakery: Bread - 4, pretzels - 0 \n",
      "\n",
      "Diana bought a bread!\n",
      "Items left in bakery: Bread - 3, pretzels - 0 \n",
      "\n",
      "Sorry Frank, we're out of pretzel!\n",
      "Items left in bakery: Bread - 3, pretzels - 0 \n",
      "\n",
      "Diana bought a bread!\n",
      "Items left in bakery: Bread - 2, pretzels - 0 \n",
      "\n",
      "Sorry Bob, we're out of pretzel!\n",
      "Items left in bakery: Bread - 2, pretzels - 0 \n",
      "\n",
      "Sorry Charlie, we're out of pretzel!\n",
      "Items left in bakery: Bread - 2, pretzels - 0 \n",
      "\n",
      "Charlie bought a bread!\n",
      "Items left in bakery: Bread - 1, pretzels - 0 \n",
      "\n",
      "Sorry Alice, we're out of pretzel!\n",
      "Items left in bakery: Bread - 1, pretzels - 0 \n",
      "\n",
      "Bob bought a bread!\n",
      "Items left in bakery: Bread - 0, pretzels - 0 \n",
      "\n",
      "\n",
      "=== End of Day ===\n",
      "Number of tries 26\n"
     ]
    },
    {
     "data": {
      "text/plain": [
       "26"
      ]
     },
     "execution_count": 23,
     "metadata": {},
     "output_type": "execute_result"
    }
   ],
   "source": [
    "from dataclasses import dataclass\n",
    "from typing import List\n",
    "import random\n",
    "\n",
    "@dataclass\n",
    "class Bakery:\n",
    "    bread: int = 0\n",
    "    pretzels: int = 0\n",
    "    \n",
    "class Human:\n",
    "    def __init__(self, name: str):\n",
    "        self.name = name\n",
    "\n",
    "class Baker(Human):\n",
    "    def bake(self, bakery: Bakery, item: str, amount: int = 1, verbose: bool = True):\n",
    "        if item.lower() == \"bread\":\n",
    "            bakery.bread += amount\n",
    "            if verbose:\n",
    "                print(f\"{self.name} baked {amount} bread!\")\n",
    "        elif item.lower() == \"pretzel\":\n",
    "            bakery.pretzels += amount\n",
    "            if verbose:\n",
    "                print(f\"{self.name} baked {amount} pretzels!\")\n",
    "            \n",
    "class Customer(Human):\n",
    "    def buy(self, bakery: Bakery, item: str, verbose=True) -> bool:\n",
    "        if item.lower() == \"bread\" and bakery.bread > 0:\n",
    "            bakery.bread -= 1\n",
    "            if verbose:\n",
    "                print(f\"{self.name} bought a bread!\")\n",
    "            return True\n",
    "        elif item.lower() == \"pretzel\" and bakery.pretzels > 0:\n",
    "            bakery.pretzels -= 1\n",
    "            if verbose:\n",
    "                print(f\"{self.name} bought a pretzel!\")\n",
    "            return True\n",
    "        else:\n",
    "            if verbose:\n",
    "                print(f\"Sorry {self.name}, we're out of {item}!\")\n",
    "            return False\n",
    "\n",
    "# Simulation\n",
    "def simulate_bakery_day(verbose=True, n_bread=10, n_pretzel=5):\n",
    "    # Initialize bakery and people\n",
    "    bakery = Bakery()\n",
    "    baker = Baker(\"John\")\n",
    "    customers = [\n",
    "        Customer(\"Alice\"),\n",
    "        Customer(\"Bob\"),\n",
    "        Customer(\"Charlie\"),\n",
    "        Customer(\"Diana\"),\n",
    "        Customer(\"Ed\"),\n",
    "        Customer(\"Frank\")\n",
    "    ]\n",
    "    \n",
    "    # Morning baking\n",
    "    if verbose:\n",
    "        print(\"=== Morning Baking ===\")\n",
    "    baker.bake(bakery, \"bread\", n_bread, verbose)\n",
    "    baker.bake(bakery, \"pretzel\", n_pretzel, verbose)\n",
    "    \n",
    "    # Customer shopping\n",
    "    if verbose:\n",
    "        print(\"\\n=== Shopping Time ===\")\n",
    "    items = [\"bread\", \"pretzel\"]\n",
    "\n",
    "    num_of_tries = 0\n",
    "    while bakery.bread > 0 or bakery.pretzels > 0:\n",
    "        customer = random.choice(customers)\n",
    "        item = random.choice(items)\n",
    "        customer.buy(bakery, item, verbose)\n",
    "        if verbose:\n",
    "            print(f\"Items left in bakery: Bread - {bakery.bread}, pretzels - {bakery.pretzels} \\n\")\n",
    "        num_of_tries += 1\n",
    "    if verbose:    \n",
    "        print(\"\\n=== End of Day ===\")\n",
    "        print(f\"Number of tries {num_of_tries}\")\n",
    "\n",
    "    return num_of_tries\n",
    "# Run simulation\n",
    "simulate_bakery_day()"
   ]
  },
  {
   "cell_type": "code",
   "execution_count": 49,
   "metadata": {},
   "outputs": [],
   "source": [
    "n_tries = []\n",
    "for n in range(10000):\n",
    "    n_tries.append(simulate_bakery_day(verbose=False))\n",
    "    "
   ]
  },
  {
   "cell_type": "code",
   "execution_count": 45,
   "metadata": {},
   "outputs": [
    {
     "name": "stdout",
     "output_type": "stream",
     "text": [
      "Requirement already satisfied: numpy in /opt/conda/lib/python3.12/site-packages (2.2.2)\n"
     ]
    }
   ],
   "source": [
    "!pip install numpy"
   ]
  },
  {
   "cell_type": "code",
   "execution_count": 46,
   "metadata": {},
   "outputs": [],
   "source": [
    "import numpy as np"
   ]
  },
  {
   "cell_type": "code",
   "execution_count": 47,
   "metadata": {},
   "outputs": [],
   "source": [
    "x = np.array(n_tries)"
   ]
  },
  {
   "cell_type": "code",
   "execution_count": 48,
   "metadata": {},
   "outputs": [
    {
     "data": {
      "text/plain": [
       "(np.float64(20.538), np.float64(4.2725350788495575))"
      ]
     },
     "execution_count": 48,
     "metadata": {},
     "output_type": "execute_result"
    }
   ],
   "source": [
    "np.mean(n_tries), np.std(n_tries)"
   ]
  },
  {
   "cell_type": "code",
   "execution_count": null,
   "metadata": {},
   "outputs": [],
   "source": [
    "impor"
   ]
  }
 ],
 "metadata": {
  "kernelspec": {
   "display_name": "Python 3 (ipykernel)",
   "language": "python",
   "name": "python3"
  },
  "language_info": {
   "codemirror_mode": {
    "name": "ipython",
    "version": 3
   },
   "file_extension": ".py",
   "mimetype": "text/x-python",
   "name": "python",
   "nbconvert_exporter": "python",
   "pygments_lexer": "ipython3",
   "version": "3.12.8"
  }
 },
 "nbformat": 4,
 "nbformat_minor": 4
}
